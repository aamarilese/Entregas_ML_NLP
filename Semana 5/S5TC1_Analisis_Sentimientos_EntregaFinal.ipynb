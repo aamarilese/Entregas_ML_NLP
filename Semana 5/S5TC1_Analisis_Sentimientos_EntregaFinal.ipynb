{
 "cells": [
  {
   "cell_type": "markdown",
   "metadata": {},
   "source": [
    "![image info](https://raw.githubusercontent.com/albahnsen/MIAD_ML_and_NLP/main/images/banner_1.png)"
   ]
  },
  {
   "cell_type": "markdown",
   "metadata": {},
   "source": [
    "# Taller: Análisis de sentimientos y técnicas de NLP\n",
    "\n",
    "En este taller podrán poner en práctica sus conocimientos sobre las diferentes técnicas para el procesamiento de lenguaje natural. El taller está constituido por 5 puntos, en los cuales deberan seguir las intrucciones de cada numeral para su desarrollo."
   ]
  },
  {
   "cell_type": "markdown",
   "metadata": {},
   "source": [
    "## Datos predicción sentimientos de viajeros en Twitter\n",
    "\n",
    "En este taller se usará el conjunto de datos de sentimientos sobre distintas aerolíneas de EE.UU. provenientes de Twitter. Cada observación contiene si el sentimiento de los tweets es positivo, neutral o negativo teniendo en cuenta distintas variables como aerolínea y las razones de los sentimientos negativos (como \"retraso en el vuelo\" o \"servicio grosero\"). El objetivo es predecir el sentimiento asociado a cada tweet. Para más detalles pueden visitar el siguiente enlace: [datos](https://www.kaggle.com/crowdflower/twitter-airline-sentiment)."
   ]
  },
  {
   "cell_type": "markdown",
   "metadata": {},
   "source": [
    "### Librerías a Importar"
   ]
  },
  {
   "cell_type": "code",
   "execution_count": 2,
   "metadata": {},
   "outputs": [],
   "source": [
    "# Prevención de alertas\n",
    "import warnings\n",
    "warnings.filterwarnings('ignore')"
   ]
  },
  {
   "cell_type": "code",
   "execution_count": 3,
   "metadata": {},
   "outputs": [],
   "source": [
    "# Importación de librerías\n",
    "import pandas as pd\n",
    "import numpy as np\n",
    "%matplotlib inline\n",
    "import matplotlib.pyplot as plt\n",
    "from sklearn.model_selection import train_test_split, cross_val_score\n",
    "from sklearn.feature_extraction.text import CountVectorizer, TfidfVectorizer\n",
    "from sklearn.ensemble import RandomForestClassifier\n",
    "from nltk.stem.snowball import SnowballStemmer\n",
    "from nltk.stem import WordNetLemmatizer\n",
    "from sklearn.metrics import classification_report, confusion_matrix, accuracy_score\n",
    "import nltk\n",
    "from nltk.corpus import stopwords\n",
    "from nltk.tokenize import wordpunct_tokenize\n",
    "from imblearn.over_sampling import SMOTE\n",
    "from sklearn.metrics import roc_curve, auc"
   ]
  },
  {
   "cell_type": "code",
   "execution_count": 4,
   "metadata": {},
   "outputs": [
    {
     "data": {
      "text/html": [
       "<div>\n",
       "<style scoped>\n",
       "    .dataframe tbody tr th:only-of-type {\n",
       "        vertical-align: middle;\n",
       "    }\n",
       "\n",
       "    .dataframe tbody tr th {\n",
       "        vertical-align: top;\n",
       "    }\n",
       "\n",
       "    .dataframe thead th {\n",
       "        text-align: right;\n",
       "    }\n",
       "</style>\n",
       "<table border=\"1\" class=\"dataframe\">\n",
       "  <thead>\n",
       "    <tr style=\"text-align: right;\">\n",
       "      <th></th>\n",
       "      <th>airline_sentiment</th>\n",
       "      <th>airline_sentiment_confidence</th>\n",
       "      <th>negativereason</th>\n",
       "      <th>negativereason_confidence</th>\n",
       "      <th>airline</th>\n",
       "      <th>airline_sentiment_gold</th>\n",
       "      <th>name</th>\n",
       "      <th>negativereason_gold</th>\n",
       "      <th>retweet_count</th>\n",
       "      <th>text</th>\n",
       "      <th>tweet_coord</th>\n",
       "      <th>tweet_created</th>\n",
       "      <th>tweet_location</th>\n",
       "      <th>user_timezone</th>\n",
       "    </tr>\n",
       "    <tr>\n",
       "      <th>tweet_id</th>\n",
       "      <th></th>\n",
       "      <th></th>\n",
       "      <th></th>\n",
       "      <th></th>\n",
       "      <th></th>\n",
       "      <th></th>\n",
       "      <th></th>\n",
       "      <th></th>\n",
       "      <th></th>\n",
       "      <th></th>\n",
       "      <th></th>\n",
       "      <th></th>\n",
       "      <th></th>\n",
       "      <th></th>\n",
       "    </tr>\n",
       "  </thead>\n",
       "  <tbody>\n",
       "    <tr>\n",
       "      <th>570306133677760513</th>\n",
       "      <td>neutral</td>\n",
       "      <td>1.0000</td>\n",
       "      <td>NaN</td>\n",
       "      <td>NaN</td>\n",
       "      <td>Virgin America</td>\n",
       "      <td>NaN</td>\n",
       "      <td>cairdin</td>\n",
       "      <td>NaN</td>\n",
       "      <td>0</td>\n",
       "      <td>@VirginAmerica What @dhepburn said.</td>\n",
       "      <td>NaN</td>\n",
       "      <td>2015-02-24 11:35:52 -0800</td>\n",
       "      <td>NaN</td>\n",
       "      <td>Eastern Time (US &amp; Canada)</td>\n",
       "    </tr>\n",
       "    <tr>\n",
       "      <th>570301130888122368</th>\n",
       "      <td>positive</td>\n",
       "      <td>0.3486</td>\n",
       "      <td>NaN</td>\n",
       "      <td>0.0000</td>\n",
       "      <td>Virgin America</td>\n",
       "      <td>NaN</td>\n",
       "      <td>jnardino</td>\n",
       "      <td>NaN</td>\n",
       "      <td>0</td>\n",
       "      <td>@VirginAmerica plus you've added commercials t...</td>\n",
       "      <td>NaN</td>\n",
       "      <td>2015-02-24 11:15:59 -0800</td>\n",
       "      <td>NaN</td>\n",
       "      <td>Pacific Time (US &amp; Canada)</td>\n",
       "    </tr>\n",
       "    <tr>\n",
       "      <th>570301083672813571</th>\n",
       "      <td>neutral</td>\n",
       "      <td>0.6837</td>\n",
       "      <td>NaN</td>\n",
       "      <td>NaN</td>\n",
       "      <td>Virgin America</td>\n",
       "      <td>NaN</td>\n",
       "      <td>yvonnalynn</td>\n",
       "      <td>NaN</td>\n",
       "      <td>0</td>\n",
       "      <td>@VirginAmerica I didn't today... Must mean I n...</td>\n",
       "      <td>NaN</td>\n",
       "      <td>2015-02-24 11:15:48 -0800</td>\n",
       "      <td>Lets Play</td>\n",
       "      <td>Central Time (US &amp; Canada)</td>\n",
       "    </tr>\n",
       "    <tr>\n",
       "      <th>570301031407624196</th>\n",
       "      <td>negative</td>\n",
       "      <td>1.0000</td>\n",
       "      <td>Bad Flight</td>\n",
       "      <td>0.7033</td>\n",
       "      <td>Virgin America</td>\n",
       "      <td>NaN</td>\n",
       "      <td>jnardino</td>\n",
       "      <td>NaN</td>\n",
       "      <td>0</td>\n",
       "      <td>@VirginAmerica it's really aggressive to blast...</td>\n",
       "      <td>NaN</td>\n",
       "      <td>2015-02-24 11:15:36 -0800</td>\n",
       "      <td>NaN</td>\n",
       "      <td>Pacific Time (US &amp; Canada)</td>\n",
       "    </tr>\n",
       "    <tr>\n",
       "      <th>570300817074462722</th>\n",
       "      <td>negative</td>\n",
       "      <td>1.0000</td>\n",
       "      <td>Can't Tell</td>\n",
       "      <td>1.0000</td>\n",
       "      <td>Virgin America</td>\n",
       "      <td>NaN</td>\n",
       "      <td>jnardino</td>\n",
       "      <td>NaN</td>\n",
       "      <td>0</td>\n",
       "      <td>@VirginAmerica and it's a really big bad thing...</td>\n",
       "      <td>NaN</td>\n",
       "      <td>2015-02-24 11:14:45 -0800</td>\n",
       "      <td>NaN</td>\n",
       "      <td>Pacific Time (US &amp; Canada)</td>\n",
       "    </tr>\n",
       "  </tbody>\n",
       "</table>\n",
       "</div>"
      ],
      "text/plain": [
       "                   airline_sentiment  airline_sentiment_confidence  \\\n",
       "tweet_id                                                             \n",
       "570306133677760513           neutral                        1.0000   \n",
       "570301130888122368          positive                        0.3486   \n",
       "570301083672813571           neutral                        0.6837   \n",
       "570301031407624196          negative                        1.0000   \n",
       "570300817074462722          negative                        1.0000   \n",
       "\n",
       "                   negativereason  negativereason_confidence         airline  \\\n",
       "tweet_id                                                                       \n",
       "570306133677760513            NaN                        NaN  Virgin America   \n",
       "570301130888122368            NaN                     0.0000  Virgin America   \n",
       "570301083672813571            NaN                        NaN  Virgin America   \n",
       "570301031407624196     Bad Flight                     0.7033  Virgin America   \n",
       "570300817074462722     Can't Tell                     1.0000  Virgin America   \n",
       "\n",
       "                   airline_sentiment_gold        name negativereason_gold  \\\n",
       "tweet_id                                                                    \n",
       "570306133677760513                    NaN     cairdin                 NaN   \n",
       "570301130888122368                    NaN    jnardino                 NaN   \n",
       "570301083672813571                    NaN  yvonnalynn                 NaN   \n",
       "570301031407624196                    NaN    jnardino                 NaN   \n",
       "570300817074462722                    NaN    jnardino                 NaN   \n",
       "\n",
       "                    retweet_count  \\\n",
       "tweet_id                            \n",
       "570306133677760513              0   \n",
       "570301130888122368              0   \n",
       "570301083672813571              0   \n",
       "570301031407624196              0   \n",
       "570300817074462722              0   \n",
       "\n",
       "                                                                 text  \\\n",
       "tweet_id                                                                \n",
       "570306133677760513                @VirginAmerica What @dhepburn said.   \n",
       "570301130888122368  @VirginAmerica plus you've added commercials t...   \n",
       "570301083672813571  @VirginAmerica I didn't today... Must mean I n...   \n",
       "570301031407624196  @VirginAmerica it's really aggressive to blast...   \n",
       "570300817074462722  @VirginAmerica and it's a really big bad thing...   \n",
       "\n",
       "                   tweet_coord              tweet_created tweet_location  \\\n",
       "tweet_id                                                                   \n",
       "570306133677760513         NaN  2015-02-24 11:35:52 -0800            NaN   \n",
       "570301130888122368         NaN  2015-02-24 11:15:59 -0800            NaN   \n",
       "570301083672813571         NaN  2015-02-24 11:15:48 -0800      Lets Play   \n",
       "570301031407624196         NaN  2015-02-24 11:15:36 -0800            NaN   \n",
       "570300817074462722         NaN  2015-02-24 11:14:45 -0800            NaN   \n",
       "\n",
       "                                 user_timezone  \n",
       "tweet_id                                        \n",
       "570306133677760513  Eastern Time (US & Canada)  \n",
       "570301130888122368  Pacific Time (US & Canada)  \n",
       "570301083672813571  Central Time (US & Canada)  \n",
       "570301031407624196  Pacific Time (US & Canada)  \n",
       "570300817074462722  Pacific Time (US & Canada)  "
      ]
     },
     "execution_count": 4,
     "metadata": {},
     "output_type": "execute_result"
    }
   ],
   "source": [
    "# Lectura de la información de archivo .zip\n",
    "tweets = pd.read_csv('https://raw.githubusercontent.com/albahnsen/MIAD_ML_and_NLP/main/datasets/Tweets.zip', index_col=0)\n",
    "\n",
    "# Visualización dataset\n",
    "tweets.head()"
   ]
  },
  {
   "cell_type": "code",
   "execution_count": 5,
   "metadata": {},
   "outputs": [
    {
     "data": {
      "text/plain": [
       "(14640, 14)"
      ]
     },
     "execution_count": 5,
     "metadata": {},
     "output_type": "execute_result"
    }
   ],
   "source": [
    "# Impresión tamaño del cojunto de datos\n",
    "tweets.shape"
   ]
  },
  {
   "cell_type": "markdown",
   "metadata": {},
   "source": [
    "### Análisis descriptivo"
   ]
  },
  {
   "cell_type": "code",
   "execution_count": 6,
   "metadata": {},
   "outputs": [
    {
     "data": {
      "text/plain": [
       "airline_sentiment\n",
       "negative    9178\n",
       "neutral     3099\n",
       "positive    2363\n",
       "Name: count, dtype: int64"
      ]
     },
     "execution_count": 6,
     "metadata": {},
     "output_type": "execute_result"
    }
   ],
   "source": [
    "# Cuenta de tweets por cada sentimiento\n",
    "tweets['airline_sentiment'].value_counts()"
   ]
  },
  {
   "cell_type": "code",
   "execution_count": 7,
   "metadata": {},
   "outputs": [
    {
     "data": {
      "text/plain": [
       "airline\n",
       "United            3822\n",
       "US Airways        2913\n",
       "American          2759\n",
       "Southwest         2420\n",
       "Delta             2222\n",
       "Virgin America     504\n",
       "Name: count, dtype: int64"
      ]
     },
     "execution_count": 7,
     "metadata": {},
     "output_type": "execute_result"
    }
   ],
   "source": [
    "# Cuenta de tweets por cada aerolínea\n",
    "tweets['airline'].value_counts()"
   ]
  },
  {
   "cell_type": "code",
   "execution_count": 8,
   "metadata": {},
   "outputs": [
    {
     "data": {
      "text/plain": [
       "<Axes: title={'center': 'Sentiminetos por aerolínea'}, xlabel='airline'>"
      ]
     },
     "execution_count": 8,
     "metadata": {},
     "output_type": "execute_result"
    },
    {
     "data": {
      "image/png": "[encoded data removed]",
      "text/plain": [
       "<Figure size 1000x600 with 1 Axes>"
      ]
     },
     "metadata": {},
     "output_type": "display_data"
    }
   ],
   "source": [
    "# Plot con cuenta de tweets por cada aerolínea y sentimiento\n",
    "pd.crosstab(index = tweets[\"airline\"],columns = tweets[\"airline_sentiment\"]).plot(kind='bar',figsize=(10, 6),alpha=0.5,rot=0,stacked=True,title=\"Sentiminetos por aerolínea\")"
   ]
  },
  {
   "cell_type": "markdown",
   "metadata": {},
   "source": [
    "### Separación de Datos en Conjunto de Entrenamiento y Evaluación"
   ]
  },
  {
   "cell_type": "code",
   "execution_count": 9,
   "metadata": {},
   "outputs": [],
   "source": [
    "# Separación de variables predictoras (X) y de variable de interés (y)\n",
    "X = tweets['text']\n",
    "y = tweets['airline_sentiment'].map({'negative':0,'neutral':1,'positive':2})"
   ]
  },
  {
   "cell_type": "code",
   "execution_count": 10,
   "metadata": {},
   "outputs": [],
   "source": [
    "# Separación de datos en set de entrenamiento y test\n",
    "X_train, X_test, y_train, y_test = train_test_split(X, y, test_size=0.33, random_state=42)"
   ]
  },
  {
   "cell_type": "markdown",
   "metadata": {},
   "source": [
    "### Punto 1 - Uso de CountVectorizer\n",
    "\n",
    "En la celda 1 creen un modelo de random forest con la libreria sklearn que prediga el sentimiento de los tweets usando los set de entrenamiento y test definidos anteriormente. Usen la función **CountVectorizer** y presenten el desempeño del modelo con la métrica del acurracy.\n",
    "\n",
    "Recuerden que el preprocesamiento que se haga sobre los datos de entrenamiento  (*.fit_transform()*) deben ser aplicado al set de test (*.transform()*)."
   ]
  },
  {
   "cell_type": "code",
   "execution_count": 11,
   "metadata": {},
   "outputs": [],
   "source": [
    "# Aplicación de CountVectorizer para convertir el texto en una matriz de conteo\n",
    "count_vectorizer = CountVectorizer()\n",
    "X_train_count = count_vectorizer.fit_transform(X_train)\n",
    "X_test_count = count_vectorizer.transform(X_test)"
   ]
  },
  {
   "cell_type": "code",
   "execution_count": 16,
   "metadata": {},
   "outputs": [],
   "source": [
    "# Balanceo de clases con SMOTE\n",
    "smote = SMOTE(random_state=42)\n",
    "X_train_res, y_train_res = smote.fit_resample(X_train_count, y_train)"
   ]
  },
  {
   "cell_type": "code",
   "execution_count": 17,
   "metadata": {},
   "outputs": [],
   "source": [
    "# Entrenamiento y predicción del modelo Random Forest\n",
    "rf_model = RandomForestClassifier(n_estimators=100, random_state=42)\n",
    "rf_model.fit(X_train_res, y_train_res)\n",
    "y_pred_rf = rf_model.predict(X_test_count)"
   ]
  },
  {
   "cell_type": "code",
   "execution_count": 18,
   "metadata": {},
   "outputs": [
    {
     "name": "stdout",
     "output_type": "stream",
     "text": [
      " Accuracy del modelo: 0.7649\n",
      "\n",
      " Reporte de clasificación:\n",
      "               precision    recall  f1-score   support\n",
      "\n",
      "           0       0.82      0.89      0.86      3085\n",
      "           1       0.58      0.54      0.56       984\n",
      "           2       0.71      0.54      0.61       763\n",
      "\n",
      "    accuracy                           0.76      4832\n",
      "   macro avg       0.71      0.66      0.68      4832\n",
      "weighted avg       0.76      0.76      0.76      4832\n",
      "\n",
      "\n",
      " Matriz de confusión:\n",
      " [[2751  257   77]\n",
      " [ 360  532   92]\n",
      " [ 228  122  413]]\n"
     ]
    }
   ],
   "source": [
    "# Evaluación del modelo con el conjunto de test\n",
    "accuracy_RF = accuracy_score(y_test, y_pred_rf)\n",
    "Reporte_RF = classification_report(y_test, y_pred_rf)\n",
    "Matriz_conf_RF = confusion_matrix(y_test, y_pred_rf)\n",
    "\n",
    "# Mostramos los resultados\n",
    "print(f\" Accuracy del modelo: {accuracy_RF:.4f}\")\n",
    "print(\"\\n Reporte de clasificación:\\n\", Reporte_RF)\n",
    "print(\"\\n Matriz de confusión:\\n\", Matriz_conf_RF)"
   ]
  },
  {
   "cell_type": "markdown",
   "metadata": {},
   "source": [
    "#### Análisis Modelo con CountVectorizer\n",
    "<p style=\"text-align: justify;\">\n",
    "Este modelo presenta un buen desempeño particularmente en la clase 0; en términos generales el modelo obtuvo una exactitud del 76.49%. La clase 0 (<code>'negative'</code>) presentó una precisión de 0.83 y recall de 0.89, mientras que las clases 1 (<code>'neutral'</code>) y 2 (<code>'positive'</code>) tuvieron un recall más bajo (0.54 en ambos casos). La matriz de confusión confirma más errores en estas últimas clases. El desbalance de clases en los datos podría estar influyendo en los resultados.<p>"
   ]
  },
  {
   "cell_type": "markdown",
   "metadata": {},
   "source": [
    "### Punto 2 - Eliminación de Stopwords\n",
    "<p style=\"text-align: justify;\">\n",
    "En la celda 2 creen un modelo de random forest con la libreria sklearn que prediga el sentimiento de los tweets usando los set de entrenamiento y test definidos anteriormente. Usen la función CountVectorizer, **eliminen stopwords** y presenten el desempeño del modelo con la métrica del acurracy.<p>\n",
    "\n",
    "Recuerden que el preprocesamiento que se haga sobre los datos de entrenamiento  (*.fit_transform()*) deben ser aplicado al set de test (*.transform()*)."
   ]
  },
  {
   "cell_type": "code",
   "execution_count": 19,
   "metadata": {},
   "outputs": [],
   "source": [
    "# Limpieza de texto\n",
    "lemmatizer = WordNetLemmatizer()                                          # Inicializamos el lematizador\n",
    "def limpiar_texto(texto):\n",
    "    stop_words = set(stopwords.words('english'))                          # Lista de stopwords \n",
    "    tokens = wordpunct_tokenize(texto)                                    # Separamos el texto por palabras (tokens)\n",
    "        \n",
    "    tokens_filtrados = [p for p in tokens if p.lower() not in stop_words and p.isalpha()]   \n",
    "    return ' '.join(tokens_filtrados)\n",
    "\n",
    "# Aplicación de la función de limpieza a los textos\n",
    "X_train_limpio = X_train.apply(limpiar_texto)\n",
    "X_test_limpio = X_test.apply(limpiar_texto)"
   ]
  },
  {
   "cell_type": "code",
   "execution_count": 20,
   "metadata": {},
   "outputs": [],
   "source": [
    "# Convertimos los textos a vectores usando CountVectorizer\n",
    "vectorizador = CountVectorizer()\n",
    "X_train_vec = vectorizador.fit_transform(X_train_limpio)\n",
    "X_test_vec = vectorizador.transform(X_test_limpio)"
   ]
  },
  {
   "cell_type": "code",
   "execution_count": 21,
   "metadata": {},
   "outputs": [],
   "source": [
    "# Balanceo de clases con SMOTE\n",
    "smote = SMOTE(random_state=42)\n",
    "X_train_res, y_train_res = smote.fit_resample(X_train_vec, y_train)"
   ]
  },
  {
   "cell_type": "code",
   "execution_count": 22,
   "metadata": {},
   "outputs": [
    {
     "name": "stdout",
     "output_type": "stream",
     "text": [
      " Accuracy del modelo combinado: 0.734271523178808\n",
      "\n",
      " Reporte de clasificación:\n",
      "               precision    recall  f1-score   support\n",
      "\n",
      "           0       0.86      0.80      0.83      3085\n",
      "           1       0.50      0.59      0.54       984\n",
      "           2       0.62      0.66      0.64       763\n",
      "\n",
      "    accuracy                           0.73      4832\n",
      "   macro avg       0.66      0.68      0.67      4832\n",
      "weighted avg       0.75      0.73      0.74      4832\n",
      "\n",
      "\n",
      " Matriz de confusión:\n",
      " [[2464  452  169]\n",
      " [ 263  584  137]\n",
      " [ 129  134  500]]\n"
     ]
    }
   ],
   "source": [
    "# Creamos y entrenamos el modelo Random Forest\n",
    "modelo_rf = RandomForestClassifier(n_estimators=100, random_state=42)\n",
    "modelo_rf.fit(X_train_res, y_train_res)\n",
    "\n",
    "# Hacemos predicciones y evaluamos el modelo\n",
    "predicciones = modelo_rf.predict(X_test_vec)\n",
    "\n",
    "# Métricas de desempeño\n",
    "accuracy_StopWords = accuracy_score(y_test, predicciones)\n",
    "reporte = classification_report(y_test, predicciones)\n",
    "matriz_conf = confusion_matrix(y_test, predicciones)\n",
    "\n",
    "# Mostramos los resultados\n",
    "print(\" Accuracy del modelo combinado:\", accuracy_StopWords)\n",
    "print(\"\\n Reporte de clasificación:\\n\", reporte)\n",
    "print(\"\\n Matriz de confusión:\\n\", matriz_conf)"
   ]
  },
  {
   "cell_type": "markdown",
   "metadata": {},
   "source": [
    "#### Modelo de análisis CountVectorizer + Stopwords\n",
    "<p style=\"text-align: justify;\">\n",
    "Este modelo presenta un desempeño general inferior al anterior con una exactitud de 73.43%. La clase 0 (<code>'negative'</code>) presentó una precisión de 0.86 y recall de 0.80, mientras que las clases 1 (<code>'neutral'</code>), disminuyó en su precisión 0.50 y aumentó en su recall 0.59 y 2 (<code>'positive'</code>) disminiyó en precisión (0.62) y aumentó en recall (0.66). Estos resultados pueden interpretarse de la siguiente manera: El modelo presenta menor precisión en términos generales, predice un poco mejor la clase 0 (<code>'negative'</code>), es decir encuentra mejor los verdaderos positivos a un costo de más fálsos negativos.\n",
    "<p style=\"text-align: justify;\">\n",
    "al comparar las matrices de confusión, se concluye que este modelo es más preciso, con un total de 500 aciertos, contra los 413 del modelo original. "
   ]
  },
  {
   "cell_type": "markdown",
   "metadata": {},
   "source": [
    "### Punto 3 - Lematización con verbos\n",
    "\n",
    "En la celda 3 creen un modelo de random forest con la libreria sklearn que prediga el sentimiento de los tweets usando los set de entrenamiento y test definidos anteriormente. Usen la función CountVectorizer, **lematizen el texto con verbos** y presenten el desempeño del modelo con la métrica del acurracy.\n",
    "\n",
    "Recuerden que el preprocesamiento que se haga sobre los datos de entrenamiento  (*.fit_transform()*) deben ser aplicado al set de test (*.transform()*)."
   ]
  },
  {
   "cell_type": "code",
   "execution_count": 23,
   "metadata": {},
   "outputs": [],
   "source": [
    "# Creamos una función que limpie el texto\n",
    "# Quitamos palabras vacías y lematizamos las palabras restantes\n",
    "lemmatizer = WordNetLemmatizer()  # Inicializamos el lematizador\n",
    "def limpiar_texto(texto):\n",
    "    #stop_words = set(stopwords.words('english'))  # Lista de stopwords \n",
    "    tokens = wordpunct_tokenize(texto)  # Separamos el texto por palabras (tokens)\n",
    "    \n",
    "    # Filtramos las palabras: que no sean stopwords y que sean letras (no signos)\n",
    "    #tokens_filtrados = [p for p in tokens if p.lower() not in stop_words and p.isalpha()]\n",
    "    \n",
    "    # Lematizamos usando como referencia los verbos\n",
    "    lematizadas = [lemmatizer.lemmatize(p, pos='v') for p in tokens]\n",
    "    \n",
    "    # Unimos todo nuevamente en un texto limpio\n",
    "    return ' '.join(lematizadas)\n",
    "\n",
    "# Aplicamos esta limpieza a los datos de entrenamiento y prueba\n",
    "X_train_limpio = X_train.apply(limpiar_texto)\n",
    "X_test_limpio = X_test.apply(limpiar_texto)\n",
    "\n",
    "# Convertimos los textos a vectores usando CountVectorizer\n",
    "vectorizador = CountVectorizer()\n",
    "X_train_vec = vectorizador.fit_transform(X_train_limpio)\n",
    "X_test_vec = vectorizador.transform(X_test_limpio)\n"
   ]
  },
  {
   "cell_type": "code",
   "execution_count": 24,
   "metadata": {},
   "outputs": [
    {
     "name": "stdout",
     "output_type": "stream",
     "text": [
      " Accuracy del modelo combinado: 0.7706953642384106\n",
      "\n",
      " Reporte de clasificación:\n",
      "               precision    recall  f1-score   support\n",
      "\n",
      "           0       0.78      0.96      0.86      3085\n",
      "           1       0.69      0.41      0.52       984\n",
      "           2       0.83      0.45      0.58       763\n",
      "\n",
      "    accuracy                           0.77      4832\n",
      "   macro avg       0.77      0.61      0.65      4832\n",
      "weighted avg       0.77      0.77      0.75      4832\n",
      "\n",
      "\n",
      " Matriz de confusión:\n",
      " [[2976   86   23]\n",
      " [ 533  405   46]\n",
      " [ 326   94  343]]\n"
     ]
    }
   ],
   "source": [
    "# Creamos y entrenamos el modelo Random Forest\n",
    "modelo_rf = RandomForestClassifier(n_estimators=100, random_state=42)\n",
    "modelo_rf.fit(X_train_vec, y_train)\n",
    "\n",
    "# Hacemos predicciones y evaluamos el modelo\n",
    "predicciones = modelo_rf.predict(X_test_vec)\n",
    "\n",
    "# Métricas de desempeño\n",
    "accuracy_lemmatizer = accuracy_score(y_test, predicciones)\n",
    "reporte = classification_report(y_test, predicciones)\n",
    "matriz_conf = confusion_matrix(y_test, predicciones)\n",
    "\n",
    "# Mostramos los resultados\n",
    "print(\" Accuracy del modelo combinado:\", accuracy_lemmatizer)\n",
    "print(\"\\n Reporte de clasificación:\\n\", reporte)\n",
    "print(\"\\n Matriz de confusión:\\n\", matriz_conf)"
   ]
  },
  {
   "cell_type": "markdown",
   "metadata": {},
   "source": [
    "#### Modelo de análisis CountVectorizer + Stopwords + Lematización\n",
    "<p style=\"text-align: justify;\">\n",
    "Este modelo presenta un desempeño general inferior al anterior con una exactitud de 77.06%. La clase 0 (<code>'negative'</code>) presentó una precisión de 0.78 y recall de 0.96, mientras que las clases 1 (<code>'neutral'</code>), aumenta en su precisión 0.69 y disminuye en su recall 0.41 y 2 (<code>'positive'</code>) aumentó en su precisión (0.83) y disminuye en recall (0.45). Estos resultados pueden interpretarse de la siguiente manera: El modelo presenta una mejora considerable en su precisión en todas las clases, es decir encuentra mejor los verdaderos positivos a un costo de más fálsos negativos en todas las clases."
   ]
  },
  {
   "cell_type": "markdown",
   "metadata": {},
   "source": [
    "### Punto 4 - Multiples técnicas\n",
    "\n",
    "En la celda 4 creen un modelo de random forest con la libreria sklearn que prediga el sentimiento de los tweets usando los set de entrenamiento y test definidos anteriormente. Usen la función **CountVectorizer, eliminen stopwords, lematizen el texto con verbos** y presenten el desempeño del modelo con la métrica del acurracy.\n",
    "\n",
    "Recuerden que el preprocesamiento que se haga sobre los datos de entrenamiento  (*.fit_transform()*) deben ser aplicado al set de test (*.transform()*)."
   ]
  },
  {
   "cell_type": "code",
   "execution_count": 22,
   "metadata": {},
   "outputs": [],
   "source": [
    "# Creamos una función que limpie el texto\n",
    "# Quitamos palabras vacías y lematizamos las palabras restantes\n",
    "lemmatizer = WordNetLemmatizer()  # Inicializamos el lematizador\n",
    "def limpiar_texto(texto):\n",
    "    stop_words = set(stopwords.words('english'))  # Lista de stopwords \n",
    "    tokens = wordpunct_tokenize(texto)  # Separamos el texto por palabras (tokens)\n",
    "    \n",
    "    # Filtramos las palabras: que no sean stopwords y que sean letras (no signos)\n",
    "    tokens_filtrados = [p for p in tokens if p.lower() not in stop_words and p.isalpha()]\n",
    "    \n",
    "    # Lematizamos usando como referencia los verbos\n",
    "    lematizadas = [lemmatizer.lemmatize(p, pos='v') for p in tokens_filtrados]\n",
    "    \n",
    "    # Unimos todo nuevamente en un texto limpio\n",
    "    return ' '.join(lematizadas)\n",
    "\n",
    "# Aplicamos esta limpieza a los datos de entrenamiento y prueba\n",
    "X_train_limpio = X_train.apply(limpiar_texto)\n",
    "X_test_limpio = X_test.apply(limpiar_texto)\n",
    "\n",
    "# Convertimos los textos a vectores usando CountVectorizer\n",
    "vectorizador = CountVectorizer()\n",
    "X_train_vec = vectorizador.fit_transform(X_train_limpio)\n",
    "X_test_vec = vectorizador.transform(X_test_limpio)"
   ]
  },
  {
   "cell_type": "code",
   "execution_count": 23,
   "metadata": {},
   "outputs": [
    {
     "name": "stdout",
     "output_type": "stream",
     "text": [
      " Accuracy del modelo combinado: 0.7731788079470199\n",
      "\n",
      " Reporte de clasificación:\n",
      "               precision    recall  f1-score   support\n",
      "\n",
      "           0       0.81      0.92      0.86      3085\n",
      "           1       0.62      0.45      0.52       984\n",
      "           2       0.74      0.61      0.67       763\n",
      "\n",
      "    accuracy                           0.77      4832\n",
      "   macro avg       0.72      0.66      0.68      4832\n",
      "weighted avg       0.76      0.77      0.76      4832\n",
      "\n",
      "\n",
      " Matriz de confusión:\n",
      " [[2829  181   75]\n",
      " [ 453  445   86]\n",
      " [ 204   97  462]]\n"
     ]
    }
   ],
   "source": [
    "# Creamos y entrenamos el modelo Random Forest\n",
    "modelo_rf = RandomForestClassifier(n_estimators=100, random_state=42)\n",
    "modelo_rf.fit(X_train_vec, y_train)\n",
    "\n",
    "# Hacemos predicciones y evaluamos el modelo\n",
    "predicciones = modelo_rf.predict(X_test_vec)\n",
    "\n",
    "# Métricas de desempeño\n",
    "accuracy_combined= accuracy_score(y_test, predicciones)\n",
    "reporte = classification_report(y_test, predicciones)\n",
    "matriz_conf = confusion_matrix(y_test, predicciones)\n",
    "\n",
    "# Mostramos los resultados\n",
    "print(\" Accuracy del modelo combinado:\", accuracy_combined)\n",
    "print(\"\\n Reporte de clasificación:\\n\", reporte)\n",
    "print(\"\\n Matriz de confusión:\\n\", matriz_conf)\n"
   ]
  },
  {
   "cell_type": "markdown",
   "metadata": {},
   "source": [
    "#### Modelo aplicando múltiples técnicas\n",
    "<p style=\"text-align: justify;\">\n",
    "Este modelo presenta el mejor desempeño con una exactitud de 77.07 %. La clase 0 (<code>'negative'</code>) presentó una precisión de 0.81 y recall de 0.92, mientras que las clases 1 (<code>'neutral'</code>), con precisión 0.62 y recall 0.45 y 2 (<code>'positive'</code>) con precisión (0.74) y recall (0.61). Estos resultados pueden interpretarse como un modelo mucho más equilibrado que tiene un muy buen poder predictivo tanto en los casos positivos como negativos y en las diferentes clases (su menor desempeño sigue dado por la clase 1 (<code>'neutral'</code>)."
   ]
  },
  {
   "cell_type": "markdown",
   "metadata": {},
   "source": [
    "### Punto 5 - Comparación y análisis de resultados\n",
    "\n",
    "En la celda 5 comparen los resultados obtenidos de los diferentes modelos (random forest) y comenten las ventajas del mejor modelo y las desventajas del modelo con el menor desempeño."
   ]
  },
  {
   "cell_type": "code",
   "execution_count": 24,
   "metadata": {},
   "outputs": [
    {
     "data": {
      "image/png": "[encoded data removed]",
      "text/plain": [
       "<Figure size 700x500 with 1 Axes>"
      ]
     },
     "metadata": {},
     "output_type": "display_data"
    }
   ],
   "source": [
    "modelos = ['CountVectorizer', 'StopWords', 'Lemmatizer', 'Combined']\n",
    "Accuracy = [accuracy_RF, accuracy_StopWords, accuracy_lemmatizer, accuracy_combined]\n",
    "\n",
    "fig, ax = plt.subplots(figsize=(7, 5))\n",
    "\n",
    "# Color púrpura\n",
    "purple_color = '#800080'\n",
    "\n",
    "# Gráfico: Comparar modelos por MSE\n",
    "bars = ax.bar(modelos, Accuracy, color=purple_color, alpha=0.7)\n",
    "ax.set_title('Comparación de Modelos por Accuracy', fontsize=11)\n",
    "ax.set_xlabel('Modelos', fontsize=11)\n",
    "ax.set_ylabel('Accuracy', fontsize=11)\n",
    "ax.grid(True, linestyle='--', alpha=0.6)\n",
    "\n",
    "# Mostrar el valor arriba de cada barra\n",
    "for bar in bars:\n",
    "    height = bar.get_height()\n",
    "    ax.text(bar.get_x() + bar.get_width()/2.0, height, f'{height:.4f}', \n",
    "            ha='center', va='bottom', fontsize=10)\n",
    "\n",
    "# Ajustes finales\n",
    "plt.tight_layout()\n",
    "plt.show()\n"
   ]
  },
  {
   "cell_type": "markdown",
   "metadata": {},
   "source": [
    "<p style=\"text-align: justify;\">\n",
    "Al comparar el desemepeño de todos los modelos se observa que el modelo que utiliza CountVectorizer obtuvo un accuracy de 0.7649. Al eliminar stopwords, el accuracy disminuyó a 0.7343. La aplicación de la lematización mejoró el accuracy a 0.7707. El modelo Combined, que integra la eliminación de stopwords y la lematización, mostró el accuracy más alto con un valor de 0.7732, superando a los modelos individuales. Esto sugiere que la combinación de ambas técnicas de preprocesamiento contribuye a un mejor rendimiento del modelo según la métrica de desepeño seleccionada.<p>"
   ]
  }
 ],
 "metadata": {
  "kernelspec": {
   "display_name": "Python 3",
   "language": "python",
   "name": "python3"
  },
  "language_info": {
   "codemirror_mode": {
    "name": "ipython",
    "version": 3
   },
   "file_extension": ".py",
   "mimetype": "text/x-python",
   "name": "python",
   "nbconvert_exporter": "python",
   "pygments_lexer": "ipython3",
   "version": "3.12.4"
  }
 },
 "nbformat": 4,
 "nbformat_minor": 2
}
